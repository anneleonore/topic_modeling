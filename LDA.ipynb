{
 "cells": [
  {
   "cell_type": "markdown",
   "id": "bb042acd-c0f0-4a28-8da9-4ec530771552",
   "metadata": {},
   "source": [
    "# Latent Dirichlet Allocation (LDA)\n",
    "- **Content**: Topic Modeling using LDA\n",
    "- **Author**: Noor de Bruijn\n",
    "- **Last edited**: Thursday, June 19, 2025"
   ]
  },
  {
   "cell_type": "markdown",
   "id": "f97c38ef-71e1-4f84-b71c-e12519498393",
   "metadata": {},
   "source": [
    "## Install packages"
   ]
  },
  {
   "cell_type": "code",
   "execution_count": 2,
   "id": "712ab15d-e6bf-43c4-ab26-66f07cd3a1aa",
   "metadata": {
    "execution": {
     "iopub.execute_input": "2025-06-20T00:56:53.652059Z",
     "iopub.status.busy": "2025-06-20T00:56:53.651625Z",
     "iopub.status.idle": "2025-06-20T00:57:06.438551Z",
     "shell.execute_reply": "2025-06-20T00:57:06.437588Z",
     "shell.execute_reply.started": "2025-06-20T00:56:53.652015Z"
    },
    "tags": []
   },
   "outputs": [
    {
     "name": "stdout",
     "output_type": "stream",
     "text": [
      "\u001b[31mERROR: pip's dependency resolver does not currently take into account all the packages that are installed. This behaviour is the source of the following dependency conflicts.\n",
      "thinc 8.3.6 requires numpy<3.0.0,>=2.0.0, but you have numpy 1.24.4 which is incompatible.\u001b[0m\u001b[31m\n",
      "\u001b[0m"
     ]
    }
   ],
   "source": [
    "!pip install -q numpy==1.24.4\n",
    "!pip install -q pandas==2.2.1"
   ]
  },
  {
   "cell_type": "code",
   "execution_count": 5,
   "id": "8832c1d4-6e31-41c8-9de3-c04927c0bbdf",
   "metadata": {
    "execution": {
     "iopub.execute_input": "2025-06-20T01:00:39.063821Z",
     "iopub.status.busy": "2025-06-20T01:00:39.063447Z",
     "iopub.status.idle": "2025-06-20T01:00:39.068645Z",
     "shell.execute_reply": "2025-06-20T01:00:39.067716Z",
     "shell.execute_reply.started": "2025-06-20T01:00:39.063792Z"
    },
    "tags": []
   },
   "outputs": [
    {
     "name": "stdout",
     "output_type": "stream",
     "text": [
      "Numpy version: 1.24.4\n",
      "Pandas version: 2.2.1\n"
     ]
    }
   ],
   "source": [
    "#Check Numpy version\n",
    "import numpy as np\n",
    "print(f\"Numpy version: {np.__version__}\")\n",
    "\n",
    "import pandas as pd\n",
    "print(f\"Pandas version: {pd.__version__}\")"
   ]
  },
  {
   "cell_type": "markdown",
   "id": "f684bf4d-3db8-431f-a3e1-bda0ce37183e",
   "metadata": {
    "tags": []
   },
   "source": [
    "### Open file"
   ]
  },
  {
   "cell_type": "code",
   "execution_count": 26,
   "id": "a41f2e0f-a6d5-40f9-8402-7e349b29b33d",
   "metadata": {
    "execution": {
     "iopub.execute_input": "2025-06-20T01:04:13.511881Z",
     "iopub.status.busy": "2025-06-20T01:04:13.511506Z",
     "iopub.status.idle": "2025-06-20T01:04:13.517834Z",
     "shell.execute_reply": "2025-06-20T01:04:13.516887Z",
     "shell.execute_reply.started": "2025-06-20T01:04:13.511852Z"
    },
    "tags": []
   },
   "outputs": [],
   "source": [
    "#Test data\n",
    "df_copy = pd.DataFrame({\n",
    "    \"answer\": [\n",
    "        \"Alice's work was excellent.\\nVery consistent.\",\n",
    "        \"Bob did a great job.\\nHe's always on time.\",\n",
    "        \"Carol's input was helpful.\\nGood team player.\",\n",
    "        \"Dave works independently.\\nStrong communicator.\",\n",
    "        \"Eve is proactive and reliable.\\nGreat attitude.\",\n",
    "        \"Frank delivers results.\\nMeets deadlines.\",\n",
    "        \"Grace takes initiative.\\nVery skilled.\",\n",
    "        \"Hank is a team player.\\nVery positive.\",\n",
    "        \"Ivy is creative.\\nStrong problem-solving.\",\n",
    "        \"Jake shows leadership.\\nSupports others.\"\n",
    "    ]\n",
    "})\n",
    "\n",
    "# Mock name list for testing\n",
    "NAMES = {\"Alice\", \"Bob\", \"Carol\", \"Dave\", \"Eve\", \"Frank\", \"Grace\", \"Hank\", \"Ivy\", \"Jake\"}"
   ]
  },
  {
   "cell_type": "markdown",
   "id": "aac63e2b-9053-41f5-9574-48a862f2957c",
   "metadata": {
    "tags": []
   },
   "source": [
    "### Install packages with dependencies"
   ]
  },
  {
   "cell_type": "code",
   "execution_count": 5,
   "id": "19fa017d-379d-477c-b9c4-816445f3e759",
   "metadata": {
    "execution": {
     "iopub.execute_input": "2025-06-20T00:57:49.428529Z",
     "iopub.status.busy": "2025-06-20T00:57:49.428157Z",
     "iopub.status.idle": "2025-06-20T00:58:21.753576Z",
     "shell.execute_reply": "2025-06-20T00:58:21.752724Z",
     "shell.execute_reply.started": "2025-06-20T00:57:49.428500Z"
    },
    "tags": []
   },
   "outputs": [
    {
     "name": "stdout",
     "output_type": "stream",
     "text": [
      "Collecting en-core-web-sm==3.8.0\n",
      "  Downloading https://github.com/explosion/spacy-models/releases/download/en_core_web_sm-3.8.0/en_core_web_sm-3.8.0-py3-none-any.whl (12.8 MB)\n",
      "\u001b[2K     \u001b[90m━━━━━━━━━━━━━━━━━━━━━━━━━━━━━━━━━━━━━━━\u001b[0m \u001b[32m12.8/12.8 MB\u001b[0m \u001b[31m196.4 MB/s\u001b[0m eta \u001b[36m0:00:00\u001b[0m\n",
      "\u001b[?25h\u001b[38;5;2m✔ Download and installation successful\u001b[0m\n",
      "You can now load the package via spacy.load('en_core_web_sm')\n"
     ]
    }
   ],
   "source": [
    "!pip install -q gensim\n",
    "!pip install -q nlp\n",
    "!pip install -q nltk\n",
    "!pip install -q pyLDAvis\n",
    "!pip install -q matplotlib\n",
    "!pip install -q spacy\n",
    "\n",
    "#Downloading pre-trained model\n",
    "!python -m spacy download en_core_web_sm"
   ]
  },
  {
   "cell_type": "code",
   "execution_count": 40,
   "id": "42712c74-c7fa-4e32-9b5e-b5ce779e8fee",
   "metadata": {
    "execution": {
     "iopub.execute_input": "2025-06-20T01:06:01.106805Z",
     "iopub.status.busy": "2025-06-20T01:06:01.106426Z",
     "iopub.status.idle": "2025-06-20T01:06:01.114932Z",
     "shell.execute_reply": "2025-06-20T01:06:01.114080Z",
     "shell.execute_reply.started": "2025-06-20T01:06:01.106774Z"
    },
    "tags": []
   },
   "outputs": [
    {
     "name": "stdout",
     "output_type": "stream",
     "text": [
      "Success\n"
     ]
    }
   ],
   "source": [
    "##\n",
    "import os\n",
    "import re\n",
    "import sys\n",
    "import time \n",
    "\n",
    "##\n",
    "import gensim\n",
    "import matplotlib\n",
    "import matplotlib.pyplot as plt\n",
    "import multiprocessing\n",
    "import pyLDAvis\n",
    "import nlp\n",
    "import spacy\n",
    "\n",
    "from gensim.corpora import Dictionary\n",
    "from gensim.models import LdaModel, LsiModel, HdpModel\n",
    "from gensim.models import Phrases\n",
    "from IPython.display import HTML, display\n",
    "from multiprocessing import Process, Queue\n",
    "import pyLDAvis.gensim_models\n",
    "from spacy import displacy\n",
    "\n",
    "print(\"Success\")"
   ]
  },
  {
   "cell_type": "code",
   "execution_count": 27,
   "id": "f8309a11-a8c4-4ad2-b64b-d031abed5afc",
   "metadata": {
    "execution": {
     "iopub.execute_input": "2025-06-20T01:04:18.892124Z",
     "iopub.status.busy": "2025-06-20T01:04:18.891732Z",
     "iopub.status.idle": "2025-06-20T01:04:18.898162Z",
     "shell.execute_reply": "2025-06-20T01:04:18.897129Z",
     "shell.execute_reply.started": "2025-06-20T01:04:18.892093Z"
    },
    "tags": []
   },
   "outputs": [
    {
     "name": "stdout",
     "output_type": "stream",
     "text": [
      "Python version: 3.10.18 | packaged by conda-forge | (main, Jun  4 2025, 14:45:41) [GCC 13.3.0]\n",
      "Numpy version: 1.24.4\n",
      "Pandas version: 2.2.1\n",
      "Gensim version: 4.3.3\n",
      "pyLDAvis version: 2.1.2\n"
     ]
    }
   ],
   "source": [
    "#Print statement to see versions\n",
    "print(\"Python version:\", sys.version)\n",
    "print(\"Numpy version:\", np.__version__)\n",
    "print(\"Pandas version:\", pd.__version__)\n",
    "print(\"Gensim version:\", gensim.__version__)\n",
    "print(f\"pyLDAvis version: {pyLDAvis.__version__}\")"
   ]
  },
  {
   "cell_type": "markdown",
   "id": "72d2072a-4d1e-4f18-a02c-76a1509ba72f",
   "metadata": {
    "tags": []
   },
   "source": [
    "## Check cwd and Python executable/version"
   ]
  },
  {
   "cell_type": "code",
   "execution_count": null,
   "id": "daecefc6-0bb7-4072-ba75-4b8fc8747db7",
   "metadata": {
    "tags": []
   },
   "outputs": [],
   "source": [
    "#Check current working directory\n",
    "print(\"Current working directory:\")\n",
    "print(os.getcwd())\n",
    "\n",
    "#Check virtual environment path\n",
    "print(\"\\n Python executable (venv path):\")\n",
    "print(sys.executable)\n",
    "\n",
    "#Check Python version\n",
    "print(\"\\nPython version:\")\n",
    "print(sys.version)"
   ]
  },
  {
   "cell_type": "markdown",
   "id": "b061f0e9-b614-4275-9215-446ff29d6b10",
   "metadata": {
    "tags": []
   },
   "source": [
    "## File: NAMES"
   ]
  },
  {
   "cell_type": "code",
   "execution_count": 29,
   "id": "3fd218f7-f898-454a-9e99-f2991c682a60",
   "metadata": {
    "execution": {
     "iopub.execute_input": "2025-06-20T01:04:26.101759Z",
     "iopub.status.busy": "2025-06-20T01:04:26.101387Z",
     "iopub.status.idle": "2025-06-20T01:04:26.107621Z",
     "shell.execute_reply": "2025-06-20T01:04:26.106667Z",
     "shell.execute_reply.started": "2025-06-20T01:04:26.101730Z"
    },
    "tags": []
   },
   "outputs": [],
   "source": [
    "#Get a list of existed names (over 18,000) from names.txt file\n",
    "with open('names.txt', 'r') as file:\n",
    "    NAMES = set(file.read().splitlines())"
   ]
  },
  {
   "cell_type": "markdown",
   "id": "13ba7171-6386-4505-8cfa-daebd8e521e6",
   "metadata": {
    "tags": []
   },
   "source": [
    "## Step 1. Text cleaning"
   ]
  },
  {
   "cell_type": "code",
   "execution_count": 30,
   "id": "f5670a35-bac7-4ee9-8f64-91069e754b42",
   "metadata": {
    "execution": {
     "iopub.execute_input": "2025-06-20T01:04:28.323035Z",
     "iopub.status.busy": "2025-06-20T01:04:28.322627Z",
     "iopub.status.idle": "2025-06-20T01:04:28.384509Z",
     "shell.execute_reply": "2025-06-20T01:04:28.383390Z",
     "shell.execute_reply.started": "2025-06-20T01:04:28.323005Z"
    },
    "tags": []
   },
   "outputs": [
    {
     "name": "stdout",
     "output_type": "stream",
     "text": [
      "                                           answer  \\\n",
      "0    Alice's work was excellent. Very consistent.   \n",
      "1       Bob did a great job. He's always on time.   \n",
      "2    Carol's input was helpful. Good team player.   \n",
      "3  Dave works independently. Strong communicator.   \n",
      "4  Eve is proactive and reliable. Great attitude.   \n",
      "\n",
      "                               answer_cleaned found_names  \n",
      "0        work was excellent. Very consistent.     [Alice]  \n",
      "1            did a great job. always on time.   [Bob, He]  \n",
      "2        input was helpful. Good team player.     [Carol]  \n",
      "3   works independently. Strong communicator.      [Dave]  \n",
      "4  is proactive and reliable. Great attitude.       [Eve]  \n",
      "\n",
      "Execution time (parallel): 0.0448 seconds\n"
     ]
    }
   ],
   "source": [
    "#Define functions\n",
    "def clean_text(text):\n",
    "    text = re.sub(r'\\s*\\\\n\\s*', ' ', text)\n",
    "    text = re.sub(r'\\s+', ' ', text)\n",
    "    return text.strip()\n",
    "\n",
    "def replace_edge_quotes(text):\n",
    "    text = text.strip()\n",
    "    if text.startswith('\"') and text.endswith('\"'):\n",
    "        text = \"'\" + text[1:-1] + \"'\"\n",
    "    return text\n",
    "\n",
    "def normalize_spaces(text):\n",
    "    return re.sub(r'\\s+', ' ', text).strip()\n",
    "\n",
    "def find_and_remove_names(text):\n",
    "    if not isinstance(text, str):\n",
    "        return text, []\n",
    "    matches = re.findall(r\"\\b[A-Z][a-z]+(?:'s)?\\b\", text)\n",
    "    matches_singular = set(name.replace(\"'s\", \"\") for name in matches)\n",
    "    found_names = [name for name in matches_singular if name in NAMES]\n",
    "    for name in found_names:\n",
    "        text = re.sub(r\"\\b\" + re.escape(name) + r\"(?:'s)?\\b\", '', text)\n",
    "    text = re.sub(r'\\s+', ' ', text).strip()\n",
    "    return text, found_names\n",
    "\n",
    "def process_chunk(df_chunk, output_queue):\n",
    "    df_chunk['answer'] = df_chunk['answer'].apply(clean_text)\n",
    "    df_chunk[['answer_cleaned', 'found_names']] = df_chunk['answer'].apply(find_and_remove_names).apply(pd.Series)\n",
    "    df_chunk['answer_cleaned'] = df_chunk['answer_cleaned'].apply(replace_edge_quotes)\n",
    "    df_chunk['answer_cleaned'] = df_chunk['answer_cleaned'].apply(normalize_spaces)\n",
    "    output_queue.put(df_chunk)\n",
    "\n",
    "#main() orchestrates the multiprocessing workflow\n",
    "def main():\n",
    "    num_processes = multiprocessing.cpu_count()\n",
    "    chunk_size = len(df_copy) // num_processes + 1\n",
    "    processes = []\n",
    "    output_queue = Queue()\n",
    "    data_chunks = [df_copy.iloc[i:i + chunk_size].copy() for i in range(0, len(df_copy), chunk_size)]\n",
    "\n",
    "    for chunk in data_chunks:\n",
    "        p = Process(target=process_chunk, args=(chunk, output_queue))\n",
    "        processes.append(p)\n",
    "        p.start()\n",
    "\n",
    "    for p in processes:\n",
    "        p.join()\n",
    "\n",
    "    results = []\n",
    "    while not output_queue.empty():\n",
    "        results.append(output_queue.get())\n",
    "\n",
    "    df_result = pd.concat(results, ignore_index=True)\n",
    "    return df_result\n",
    "\n",
    "#Running the multiprocessing workflow\n",
    "if __name__ == '__main__':\n",
    "    start_time = time.time()\n",
    "    df_result = main()\n",
    "    end_time = time.time()\n",
    "    print(df_result[['answer', 'answer_cleaned', 'found_names']].head(5))\n",
    "\n",
    "    print(f\"\\nExecution time (parallel): {end_time - start_time:.4f} seconds\")"
   ]
  },
  {
   "cell_type": "markdown",
   "id": "cea1837a-5870-44d5-93ae-cce675dd7883",
   "metadata": {
    "tags": []
   },
   "source": [
    "## Step 2. Apply NLP Model (spaCy) for linguistic annotation"
   ]
  },
  {
   "cell_type": "code",
   "execution_count": 31,
   "id": "28bf772d-7e63-4dd1-9459-3b74a34a9845",
   "metadata": {
    "execution": {
     "iopub.execute_input": "2025-06-20T01:04:32.525419Z",
     "iopub.status.busy": "2025-06-20T01:04:32.524849Z",
     "iopub.status.idle": "2025-06-20T01:04:33.264225Z",
     "shell.execute_reply": "2025-06-20T01:04:33.263496Z",
     "shell.execute_reply.started": "2025-06-20T01:04:32.525385Z"
    },
    "tags": []
   },
   "outputs": [],
   "source": [
    "#Load pre-trained language model\n",
    "nlp = spacy.load('en_core_web_sm')\n",
    "\n",
    "#Create copy\n",
    "doc = df_result['answer_cleaned'].copy()\n",
    "\n",
    "#Apply nlp\n",
    "docs = doc.apply(nlp)"
   ]
  },
  {
   "cell_type": "markdown",
   "id": "af708eef-f924-43a2-831c-930a11c254b3",
   "metadata": {
    "tags": []
   },
   "source": [
    "#### I. POS-Tagging"
   ]
  },
  {
   "cell_type": "code",
   "execution_count": 32,
   "id": "d0a35218-457e-45dd-8642-5038d39bd643",
   "metadata": {
    "execution": {
     "iopub.execute_input": "2025-06-20T01:04:36.082758Z",
     "iopub.status.busy": "2025-06-20T01:04:36.082174Z",
     "iopub.status.idle": "2025-06-20T01:04:36.095677Z",
     "shell.execute_reply": "2025-06-20T01:04:36.094319Z",
     "shell.execute_reply.started": "2025-06-20T01:04:36.082727Z"
    },
    "tags": []
   },
   "outputs": [
    {
     "name": "stdout",
     "output_type": "stream",
     "text": [
      "input NOUN NN\n",
      "was AUX VBD\n",
      "helpful ADJ JJ\n",
      ". PUNCT .\n",
      "Good ADJ JJ\n",
      "team NOUN NN\n",
      "player NOUN NN\n",
      ". PUNCT .\n"
     ]
    }
   ],
   "source": [
    "#Print first sentence to see if it worked\n",
    "one_sentence = docs.iloc[2]  \n",
    "\n",
    "for token in one_sentence:\n",
    "    print(token.text, token.pos_, token.tag_)"
   ]
  },
  {
   "cell_type": "markdown",
   "id": "1f33e571-2058-45f2-a143-c26d739a05fe",
   "metadata": {
    "tags": []
   },
   "source": [
    "#### II. NER-Tagging"
   ]
  },
  {
   "cell_type": "code",
   "execution_count": 33,
   "id": "721f3767-3827-4635-8672-a5d2b78e9c59",
   "metadata": {
    "execution": {
     "iopub.execute_input": "2025-06-20T01:04:39.504954Z",
     "iopub.status.busy": "2025-06-20T01:04:39.504580Z",
     "iopub.status.idle": "2025-06-20T01:04:39.509495Z",
     "shell.execute_reply": "2025-06-20T01:04:39.508663Z",
     "shell.execute_reply.started": "2025-06-20T01:04:39.504924Z"
    },
    "tags": []
   },
   "outputs": [
    {
     "name": "stdout",
     "output_type": "stream",
     "text": [
      "input \n",
      "was \n",
      "helpful \n",
      ". \n",
      "Good \n",
      "team \n",
      "player \n",
      ". \n"
     ]
    }
   ],
   "source": [
    "#Loop over each individual token\n",
    "for token in one_sentence:\n",
    "    print(token.text, token.ent_type_)"
   ]
  },
  {
   "cell_type": "code",
   "execution_count": 34,
   "id": "a057f484-7345-4743-8f15-3abb4a5dbe0e",
   "metadata": {
    "execution": {
     "iopub.execute_input": "2025-06-20T01:04:41.646809Z",
     "iopub.status.busy": "2025-06-20T01:04:41.646414Z",
     "iopub.status.idle": "2025-06-20T01:04:41.650767Z",
     "shell.execute_reply": "2025-06-20T01:04:41.649857Z",
     "shell.execute_reply.started": "2025-06-20T01:04:41.646762Z"
    },
    "tags": []
   },
   "outputs": [],
   "source": [
    "#Loop over each recognized named entity\n",
    "for ent in one_sentence.ents:\n",
    "    print(ent.text, ent.label_)"
   ]
  },
  {
   "cell_type": "code",
   "execution_count": 41,
   "id": "75081339-ac62-49b8-b618-842d5c2c9a4f",
   "metadata": {
    "execution": {
     "iopub.execute_input": "2025-06-20T01:06:06.172460Z",
     "iopub.status.busy": "2025-06-20T01:06:06.172069Z",
     "iopub.status.idle": "2025-06-20T01:06:06.180329Z",
     "shell.execute_reply": "2025-06-20T01:06:06.177783Z",
     "shell.execute_reply.started": "2025-06-20T01:06:06.172429Z"
    },
    "tags": []
   },
   "outputs": [
    {
     "data": {
      "text/html": [
       "<span class=\"tex2jax_ignore\"><div class=\"entities\" style=\"line-height: 2.5; direction: ltr\">input was helpful. Good team player.</div></span>"
      ],
      "text/plain": [
       "<IPython.core.display.HTML object>"
      ]
     },
     "metadata": {},
     "output_type": "display_data"
    }
   ],
   "source": [
    "#Display named entities\n",
    "displacy.render(one_sentence, style='ent', jupyter=True)"
   ]
  },
  {
   "cell_type": "markdown",
   "id": "99f452f2-3ebf-40b8-9124-ed8cab134637",
   "metadata": {
    "tags": []
   },
   "source": [
    "#### III. Dependency Parsing"
   ]
  },
  {
   "cell_type": "code",
   "execution_count": 42,
   "id": "53a00208-0621-4a49-a483-66b7db28af78",
   "metadata": {
    "execution": {
     "iopub.execute_input": "2025-06-20T01:06:08.922573Z",
     "iopub.status.busy": "2025-06-20T01:06:08.922160Z",
     "iopub.status.idle": "2025-06-20T01:06:08.928186Z",
     "shell.execute_reply": "2025-06-20T01:06:08.927208Z",
     "shell.execute_reply.started": "2025-06-20T01:06:08.922543Z"
    },
    "tags": []
   },
   "outputs": [
    {
     "name": "stdout",
     "output_type": "stream",
     "text": [
      "input input nsubj was\n",
      "Good team player player ROOT player\n"
     ]
    }
   ],
   "source": [
    "#Iterates over noun phrases (noun chunks) in the doc\n",
    "for chunk in one_sentence.noun_chunks:\n",
    "    print(chunk.text, chunk.root.text, chunk.root.dep_, chunk.root.head.text)"
   ]
  },
  {
   "cell_type": "code",
   "execution_count": 43,
   "id": "f140fd19-2fce-412f-94e8-865595f28c24",
   "metadata": {
    "execution": {
     "iopub.execute_input": "2025-06-20T01:06:11.183037Z",
     "iopub.status.busy": "2025-06-20T01:06:11.182663Z",
     "iopub.status.idle": "2025-06-20T01:06:11.187761Z",
     "shell.execute_reply": "2025-06-20T01:06:11.186949Z",
     "shell.execute_reply.started": "2025-06-20T01:06:11.183007Z"
    },
    "tags": []
   },
   "outputs": [
    {
     "name": "stdout",
     "output_type": "stream",
     "text": [
      "input nsubj was AUX []\n",
      "was ROOT was AUX [input, helpful, .]\n",
      "helpful acomp was AUX []\n",
      ". punct was AUX []\n",
      "Good amod player NOUN []\n",
      "team compound player NOUN []\n",
      "player ROOT player NOUN [Good, team, .]\n",
      ". punct player NOUN []\n"
     ]
    }
   ],
   "source": [
    "#Iterates over every individual token (word or punctuation mark).\n",
    "for token in one_sentence:\n",
    "    print(token.text, token.dep_, token.head.text, token.head.pos_,\n",
    "         [child for child in token.children])"
   ]
  },
  {
   "cell_type": "code",
   "execution_count": 44,
   "id": "ce9f7488-0f49-41d3-afab-085f96769055",
   "metadata": {
    "execution": {
     "iopub.execute_input": "2025-06-20T01:06:13.412927Z",
     "iopub.status.busy": "2025-06-20T01:06:13.412556Z",
     "iopub.status.idle": "2025-06-20T01:06:13.420247Z",
     "shell.execute_reply": "2025-06-20T01:06:13.419430Z",
     "shell.execute_reply.started": "2025-06-20T01:06:13.412898Z"
    },
    "tags": []
   },
   "outputs": [
    {
     "data": {
      "text/html": [
       "<span class=\"tex2jax_ignore\"><svg xmlns=\"http://www.w3.org/2000/svg\" xmlns:xlink=\"http://www.w3.org/1999/xlink\" xml:lang=\"en\" id=\"3318d363497f441faa811e9276a221e4-0\" class=\"displacy\" width=\"590\" height=\"227.0\" direction=\"ltr\" style=\"max-width: none; height: 227.0px; color: #000000; background: #ffffff; font-family: Arial; direction: ltr\">\n",
       "<text class=\"displacy-token\" fill=\"currentColor\" text-anchor=\"middle\" y=\"137.0\">\n",
       "    <tspan class=\"displacy-word\" fill=\"currentColor\" x=\"50\">input</tspan>\n",
       "    <tspan class=\"displacy-tag\" dy=\"2em\" fill=\"currentColor\" x=\"50\">NOUN</tspan>\n",
       "</text>\n",
       "\n",
       "<text class=\"displacy-token\" fill=\"currentColor\" text-anchor=\"middle\" y=\"137.0\">\n",
       "    <tspan class=\"displacy-word\" fill=\"currentColor\" x=\"140\">was</tspan>\n",
       "    <tspan class=\"displacy-tag\" dy=\"2em\" fill=\"currentColor\" x=\"140\">AUX</tspan>\n",
       "</text>\n",
       "\n",
       "<text class=\"displacy-token\" fill=\"currentColor\" text-anchor=\"middle\" y=\"137.0\">\n",
       "    <tspan class=\"displacy-word\" fill=\"currentColor\" x=\"230\">helpful.</tspan>\n",
       "    <tspan class=\"displacy-tag\" dy=\"2em\" fill=\"currentColor\" x=\"230\">ADJ</tspan>\n",
       "</text>\n",
       "\n",
       "<text class=\"displacy-token\" fill=\"currentColor\" text-anchor=\"middle\" y=\"137.0\">\n",
       "    <tspan class=\"displacy-word\" fill=\"currentColor\" x=\"320\">Good</tspan>\n",
       "    <tspan class=\"displacy-tag\" dy=\"2em\" fill=\"currentColor\" x=\"320\">ADJ</tspan>\n",
       "</text>\n",
       "\n",
       "<text class=\"displacy-token\" fill=\"currentColor\" text-anchor=\"middle\" y=\"137.0\">\n",
       "    <tspan class=\"displacy-word\" fill=\"currentColor\" x=\"410\">team</tspan>\n",
       "    <tspan class=\"displacy-tag\" dy=\"2em\" fill=\"currentColor\" x=\"410\">NOUN</tspan>\n",
       "</text>\n",
       "\n",
       "<text class=\"displacy-token\" fill=\"currentColor\" text-anchor=\"middle\" y=\"137.0\">\n",
       "    <tspan class=\"displacy-word\" fill=\"currentColor\" x=\"500\">player.</tspan>\n",
       "    <tspan class=\"displacy-tag\" dy=\"2em\" fill=\"currentColor\" x=\"500\">NOUN</tspan>\n",
       "</text>\n",
       "\n",
       "<g class=\"displacy-arrow\">\n",
       "    <path class=\"displacy-arc\" id=\"arrow-3318d363497f441faa811e9276a221e4-0-0\" stroke-width=\"2px\" d=\"M70,92.0 C70,47.0 135.0,47.0 135.0,92.0\" fill=\"none\" stroke=\"currentColor\"/>\n",
       "    <text dy=\"1.25em\" style=\"font-size: 0.8em; letter-spacing: 1px\">\n",
       "        <textPath xlink:href=\"#arrow-3318d363497f441faa811e9276a221e4-0-0\" class=\"displacy-label\" startOffset=\"50%\" side=\"left\" fill=\"currentColor\" text-anchor=\"middle\">nsubj</textPath>\n",
       "    </text>\n",
       "    <path class=\"displacy-arrowhead\" d=\"M70,94.0 L62,82.0 78,82.0\" fill=\"currentColor\"/>\n",
       "</g>\n",
       "\n",
       "<g class=\"displacy-arrow\">\n",
       "    <path class=\"displacy-arc\" id=\"arrow-3318d363497f441faa811e9276a221e4-0-1\" stroke-width=\"2px\" d=\"M160,92.0 C160,47.0 225.0,47.0 225.0,92.0\" fill=\"none\" stroke=\"currentColor\"/>\n",
       "    <text dy=\"1.25em\" style=\"font-size: 0.8em; letter-spacing: 1px\">\n",
       "        <textPath xlink:href=\"#arrow-3318d363497f441faa811e9276a221e4-0-1\" class=\"displacy-label\" startOffset=\"50%\" side=\"left\" fill=\"currentColor\" text-anchor=\"middle\">acomp</textPath>\n",
       "    </text>\n",
       "    <path class=\"displacy-arrowhead\" d=\"M225.0,94.0 L233.0,82.0 217.0,82.0\" fill=\"currentColor\"/>\n",
       "</g>\n",
       "\n",
       "<g class=\"displacy-arrow\">\n",
       "    <path class=\"displacy-arc\" id=\"arrow-3318d363497f441faa811e9276a221e4-0-2\" stroke-width=\"2px\" d=\"M340,92.0 C340,2.0 500.0,2.0 500.0,92.0\" fill=\"none\" stroke=\"currentColor\"/>\n",
       "    <text dy=\"1.25em\" style=\"font-size: 0.8em; letter-spacing: 1px\">\n",
       "        <textPath xlink:href=\"#arrow-3318d363497f441faa811e9276a221e4-0-2\" class=\"displacy-label\" startOffset=\"50%\" side=\"left\" fill=\"currentColor\" text-anchor=\"middle\">amod</textPath>\n",
       "    </text>\n",
       "    <path class=\"displacy-arrowhead\" d=\"M340,94.0 L332,82.0 348,82.0\" fill=\"currentColor\"/>\n",
       "</g>\n",
       "\n",
       "<g class=\"displacy-arrow\">\n",
       "    <path class=\"displacy-arc\" id=\"arrow-3318d363497f441faa811e9276a221e4-0-3\" stroke-width=\"2px\" d=\"M430,92.0 C430,47.0 495.0,47.0 495.0,92.0\" fill=\"none\" stroke=\"currentColor\"/>\n",
       "    <text dy=\"1.25em\" style=\"font-size: 0.8em; letter-spacing: 1px\">\n",
       "        <textPath xlink:href=\"#arrow-3318d363497f441faa811e9276a221e4-0-3\" class=\"displacy-label\" startOffset=\"50%\" side=\"left\" fill=\"currentColor\" text-anchor=\"middle\">compound</textPath>\n",
       "    </text>\n",
       "    <path class=\"displacy-arrowhead\" d=\"M430,94.0 L422,82.0 438,82.0\" fill=\"currentColor\"/>\n",
       "</g>\n",
       "</svg></span>"
      ],
      "text/plain": [
       "<IPython.core.display.HTML object>"
      ]
     },
     "metadata": {},
     "output_type": "display_data"
    }
   ],
   "source": [
    "#Create visual\n",
    "displacy.render(one_sentence, style='dep', jupyter=True, options={'distance':90})"
   ]
  },
  {
   "cell_type": "markdown",
   "id": "119c3e17-b02f-49d5-9247-17f6c2555438",
   "metadata": {
    "tags": []
   },
   "source": [
    "## Step 3. LDA"
   ]
  },
  {
   "cell_type": "markdown",
   "id": "2c4a2959-02a8-432b-b540-41cd414a752a",
   "metadata": {
    "tags": []
   },
   "source": [
    "### I. Create lists of words\n",
    "**Explanation**: <br>\n",
    "LDA works on bags of words, not structured linguistic objects. <br>\n",
    "You can’t feed a Doc directly into LDA — it needs simple word lists (one per document). <br>"
   ]
  },
  {
   "cell_type": "code",
   "execution_count": 45,
   "id": "3af706e4-c130-48a8-9038-dd7f67e98e53",
   "metadata": {
    "execution": {
     "iopub.execute_input": "2025-06-20T01:06:18.307203Z",
     "iopub.status.busy": "2025-06-20T01:06:18.306814Z",
     "iopub.status.idle": "2025-06-20T01:06:18.313817Z",
     "shell.execute_reply": "2025-06-20T01:06:18.312871Z",
     "shell.execute_reply.started": "2025-06-20T01:06:18.307175Z"
    },
    "tags": []
   },
   "outputs": [
    {
     "name": "stdout",
     "output_type": "stream",
     "text": [
      "['work', 'excellent', 'consistent']\n"
     ]
    }
   ],
   "source": [
    "texts = []\n",
    "\n",
    "for doc in docs:\n",
    "    article = []\n",
    "    for token in doc:\n",
    "        # Skip tokens that are whitespace or unwanted\n",
    "        if token.is_space or token.is_punct or token.is_stop or token.like_num or token.text == 'I':\n",
    "            continue\n",
    "        cleaned_token = token.lemma_.strip()\n",
    "        if cleaned_token:  # Skip any remaining empty strings\n",
    "            article.append(cleaned_token)\n",
    "    \n",
    "    texts.append(article)\n",
    "\n",
    "print(texts[0])\n",
    "\n",
    "#Create bigrams\n",
    "bigram = gensim.models.phrases.Phrases(texts)\n",
    "texts = [bigram[line] for line in texts]"
   ]
  },
  {
   "cell_type": "markdown",
   "id": "d6bb4442-7567-45cf-a19d-ea147edafb5f",
   "metadata": {
    "tags": []
   },
   "source": [
    "### II. Create dictionary and corpus"
   ]
  },
  {
   "cell_type": "code",
   "execution_count": 46,
   "id": "6295691e-fdf7-4693-a02a-611de799ccc6",
   "metadata": {
    "execution": {
     "iopub.execute_input": "2025-06-20T01:06:20.930132Z",
     "iopub.status.busy": "2025-06-20T01:06:20.929598Z",
     "iopub.status.idle": "2025-06-20T01:06:20.934528Z",
     "shell.execute_reply": "2025-06-20T01:06:20.933742Z",
     "shell.execute_reply.started": "2025-06-20T01:06:20.930101Z"
    },
    "tags": []
   },
   "outputs": [
    {
     "name": "stdout",
     "output_type": "stream",
     "text": [
      "[(3, 1), (14, 1), (15, 1), (16, 1)]\n"
     ]
    }
   ],
   "source": [
    "dictionary = Dictionary(texts)\n",
    "corpus = [dictionary.doc2bow(text) for text in texts]\n",
    "print(corpus[4])"
   ]
  },
  {
   "cell_type": "markdown",
   "id": "7a7c7a76-2d37-479d-a63a-377244975c12",
   "metadata": {
    "tags": []
   },
   "source": [
    "### III. Run LdaModel() + visualize topics"
   ]
  },
  {
   "cell_type": "code",
   "execution_count": 47,
   "id": "b531608c-6e71-44c7-bef9-cc012a146412",
   "metadata": {
    "execution": {
     "iopub.execute_input": "2025-06-20T01:06:22.958796Z",
     "iopub.status.busy": "2025-06-20T01:06:22.958422Z",
     "iopub.status.idle": "2025-06-20T01:06:22.975636Z",
     "shell.execute_reply": "2025-06-20T01:06:22.974946Z",
     "shell.execute_reply.started": "2025-06-20T01:06:22.958768Z"
    },
    "tags": []
   },
   "outputs": [
    {
     "data": {
      "text/plain": [
       "[(0,\n",
       "  '0.180*\"time\" + 0.180*\"job\" + 0.180*\"great\" + 0.016*\"work\" + 0.016*\"team\" + 0.016*\"strong\" + 0.016*\"leadership\" + 0.016*\"initiative\" + 0.016*\"positive\" + 0.016*\"take\"'),\n",
       " (1,\n",
       "  '0.032*\"great\" + 0.032*\"team\" + 0.032*\"work\" + 0.032*\"player\" + 0.032*\"strong\" + 0.032*\"skilled\" + 0.032*\"job\" + 0.032*\"take\" + 0.032*\"problem\" + 0.032*\"proactive\"'),\n",
       " (2,\n",
       "  '0.155*\"great\" + 0.155*\"attitude\" + 0.155*\"reliable\" + 0.155*\"proactive\" + 0.014*\"team\" + 0.014*\"work\" + 0.014*\"strong\" + 0.014*\"job\" + 0.014*\"skilled\" + 0.014*\"player\"'),\n",
       " (3,\n",
       "  '0.149*\"strong\" + 0.078*\"solving\" + 0.078*\"independently\" + 0.078*\"communicator\" + 0.078*\"creative\" + 0.078*\"work\" + 0.078*\"problem\" + 0.078*\"skilled\" + 0.078*\"take\" + 0.078*\"initiative\"'),\n",
       " (4,\n",
       "  '0.180*\"show\" + 0.180*\"support\" + 0.180*\"leadership\" + 0.016*\"great\" + 0.016*\"team\" + 0.016*\"strong\" + 0.016*\"job\" + 0.016*\"work\" + 0.016*\"player\" + 0.016*\"positive\"'),\n",
       " (5,\n",
       "  '0.180*\"work\" + 0.180*\"excellent\" + 0.180*\"consistent\" + 0.016*\"great\" + 0.016*\"player\" + 0.016*\"strong\" + 0.016*\"team\" + 0.016*\"job\" + 0.016*\"positive\" + 0.016*\"initiative\"'),\n",
       " (6,\n",
       "  '0.032*\"great\" + 0.032*\"work\" + 0.032*\"team\" + 0.032*\"strong\" + 0.032*\"player\" + 0.032*\"job\" + 0.032*\"excellent\" + 0.032*\"support\" + 0.032*\"take\" + 0.032*\"leadership\"'),\n",
       " (7,\n",
       "  '0.110*\"input\" + 0.109*\"team\" + 0.104*\"good\" + 0.103*\"helpful\" + 0.080*\"player\" + 0.019*\"great\" + 0.019*\"work\" + 0.019*\"job\" + 0.019*\"strong\" + 0.019*\"consistent\"'),\n",
       " (8,\n",
       "  '0.032*\"team\" + 0.032*\"great\" + 0.032*\"strong\" + 0.032*\"player\" + 0.032*\"work\" + 0.032*\"consistent\" + 0.032*\"job\" + 0.032*\"initiative\" + 0.032*\"leadership\" + 0.032*\"positive\"'),\n",
       " (9,\n",
       "  '0.138*\"player\" + 0.126*\"team\" + 0.085*\"result\" + 0.085*\"deliver\" + 0.085*\"meet\" + 0.085*\"deadline\" + 0.085*\"positive\" + 0.051*\"helpful\" + 0.050*\"good\" + 0.048*\"input\"')]"
      ]
     },
     "execution_count": 47,
     "metadata": {},
     "output_type": "execute_result"
    }
   ],
   "source": [
    "lda_model = LdaModel(corpus=corpus, num_topics=10, id2word=dictionary)\n",
    "lda_model.show_topics()"
   ]
  },
  {
   "cell_type": "code",
   "execution_count": 48,
   "id": "99999189-08e9-4f64-b274-7df68c3ad7e3",
   "metadata": {
    "execution": {
     "iopub.execute_input": "2025-06-20T01:06:25.789814Z",
     "iopub.status.busy": "2025-06-20T01:06:25.789442Z",
     "iopub.status.idle": "2025-06-20T01:06:25.793992Z",
     "shell.execute_reply": "2025-06-20T01:06:25.793128Z",
     "shell.execute_reply.started": "2025-06-20T01:06:25.789785Z"
    },
    "tags": []
   },
   "outputs": [
    {
     "name": "stdout",
     "output_type": "stream",
     "text": [
      "Version pyLDAvis: 2.1.2\n",
      "Version Python: 2.2.1\n"
     ]
    }
   ],
   "source": [
    "print(f\"Version pyLDAvis: {pyLDAvis.__version__}\")\n",
    "print(f\"Version Python: {pd.__version__}\")"
   ]
  },
  {
   "cell_type": "code",
   "execution_count": 49,
   "id": "94556875-9f80-4131-9d51-ffde1c6bbd4c",
   "metadata": {
    "execution": {
     "iopub.execute_input": "2025-06-20T01:06:28.000484Z",
     "iopub.status.busy": "2025-06-20T01:06:28.000089Z",
     "iopub.status.idle": "2025-06-20T01:06:30.552275Z",
     "shell.execute_reply": "2025-06-20T01:06:30.551247Z",
     "shell.execute_reply.started": "2025-06-20T01:06:28.000454Z"
    },
    "tags": []
   },
   "outputs": [
    {
     "name": "stdout",
     "output_type": "stream",
     "text": [
      "Topic 0\n"
     ]
    },
    {
     "data": {
      "image/png": "[encoded data removed]",
      "text/plain": [
       "<Figure size 640x480 with 1 Axes>"
      ]
     },
     "metadata": {},
     "output_type": "display_data"
    },
    {
     "name": "stdout",
     "output_type": "stream",
     "text": [
      "Topic 1\n"
     ]
    },
    {
     "data": {
      "image/png": "[encoded data removed]",
      "text/plain": [
       "<Figure size 640x480 with 1 Axes>"
      ]
     },
     "metadata": {},
     "output_type": "display_data"
    },
    {
     "name": "stdout",
     "output_type": "stream",
     "text": [
      "Topic 2\n"
     ]
    },
    {
     "data": {
      "image/png": "[encoded data removed]",
      "text/plain": [
       "<Figure size 640x480 with 1 Axes>"
      ]
     },
     "metadata": {},
     "output_type": "display_data"
    },
    {
     "name": "stdout",
     "output_type": "stream",
     "text": [
      "Topic 3\n"
     ]
    },
    {
     "data": {
      "image/png": "[encoded data removed]",
      "text/plain": [
       "<Figure size 640x480 with 1 Axes>"
      ]
     },
     "metadata": {},
     "output_type": "display_data"
    },
    {
     "name": "stdout",
     "output_type": "stream",
     "text": [
      "Topic 4\n"
     ]
    },
    {
     "data": {
      "image/png": "[encoded data removed]",
      "text/plain": [
       "<Figure size 640x480 with 1 Axes>"
      ]
     },
     "metadata": {},
     "output_type": "display_data"
    },
    {
     "name": "stdout",
     "output_type": "stream",
     "text": [
      "Topic 5\n"
     ]
    },
    {
     "data": {
      "image/png": "[encoded data removed]",
      "text/plain": [
       "<Figure size 640x480 with 1 Axes>"
      ]
     },
     "metadata": {},
     "output_type": "display_data"
    },
    {
     "name": "stdout",
     "output_type": "stream",
     "text": [
      "Topic 6\n"
     ]
    },
    {
     "data": {
      "image/png": "[encoded data removed]",
      "text/plain": [
       "<Figure size 640x480 with 1 Axes>"
      ]
     },
     "metadata": {},
     "output_type": "display_data"
    },
    {
     "name": "stdout",
     "output_type": "stream",
     "text": [
      "Topic 7\n"
     ]
    },
    {
     "data": {
      "image/png": "[encoded data removed]",
      "text/plain": [
       "<Figure size 640x480 with 1 Axes>"
      ]
     },
     "metadata": {},
     "output_type": "display_data"
    },
    {
     "name": "stdout",
     "output_type": "stream",
     "text": [
      "Topic 8\n"
     ]
    },
    {
     "data": {
      "image/png": "[encoded data removed]",
      "text/plain": [
       "<Figure size 640x480 with 1 Axes>"
      ]
     },
     "metadata": {},
     "output_type": "display_data"
    },
    {
     "name": "stdout",
     "output_type": "stream",
     "text": [
      "Topic 9\n"
     ]
    },
    {
     "data": {
      "image/png": "[encoded data removed]",
      "text/plain": [
       "<Figure size 640x480 with 1 Axes>"
      ]
     },
     "metadata": {},
     "output_type": "display_data"
    }
   ],
   "source": [
    "for idx, topic in lda_model.show_topics(formatted=False):\n",
    "    print(f\"Topic {idx}\")\n",
    "    words = dict(topic)\n",
    "    pd.Series(words).nlargest(10).plot(kind='barh', title=f\"Topic {idx}\")\n",
    "    plt.tight_layout()\n",
    "    plt.show()"
   ]
  },
  {
   "cell_type": "code",
   "execution_count": null,
   "id": "8091a250-2de4-46ab-b6b5-599b8ef3aea0",
   "metadata": {
    "tags": []
   },
   "outputs": [],
   "source": [
    "pyLDAvis.enable_notebook()\n",
    "pyLDAvis.gensim_models.prepare(lda_model, corpus, dictionary)"
   ]
  },
  {
   "cell_type": "markdown",
   "id": "3bd8a423-fc2f-474d-9e05-2beac999c673",
   "metadata": {
    "tags": []
   },
   "source": [
    "### IV. LSI\n",
    "LSI — Latent Semantic Indexing"
   ]
  },
  {
   "cell_type": "code",
   "execution_count": 51,
   "id": "6452bde5-1a01-4a90-afd8-01b4eb588478",
   "metadata": {
    "execution": {
     "iopub.execute_input": "2025-06-20T01:06:40.459325Z",
     "iopub.status.busy": "2025-06-20T01:06:40.458950Z",
     "iopub.status.idle": "2025-06-20T01:06:40.470380Z",
     "shell.execute_reply": "2025-06-20T01:06:40.469399Z",
     "shell.execute_reply.started": "2025-06-20T01:06:40.459296Z"
    },
    "tags": []
   },
   "outputs": [
    {
     "data": {
      "text/plain": [
       "[(0,\n",
       "  '0.551*\"team\" + 0.551*\"player\" + 0.341*\"helpful\" + 0.341*\"input\" + 0.341*\"good\" + 0.211*\"positive\" + 0.000*\"creative\" + 0.000*\"great\" + 0.000*\"solving\" + 0.000*\"problem\"'),\n",
       " (1,\n",
       "  '0.580*\"strong\" + 0.465*\"work\" + 0.322*\"communicator\" + 0.322*\"independently\" + 0.258*\"problem\" + 0.258*\"solving\" + 0.258*\"creative\" + 0.143*\"consistent\" + 0.143*\"excellent\" + 0.000*\"great\"'),\n",
       " (2,\n",
       "  '0.640*\"great\" + 0.396*\"reliable\" + 0.396*\"proactive\" + 0.396*\"attitude\" + 0.245*\"job\" + 0.245*\"time\" + 0.000*\"meet\" + 0.000*\"deliver\" + 0.000*\"deadline\" + 0.000*\"result\"'),\n",
       " (3,\n",
       "  '-0.500*\"result\" + -0.500*\"meet\" + -0.500*\"deliver\" + -0.500*\"deadline\" + 0.000*\"great\" + 0.000*\"proactive\" + 0.000*\"attitude\" + 0.000*\"reliable\" + -0.000*\"leadership\" + -0.000*\"show\"'),\n",
       " (4,\n",
       "  '-0.487*\"work\" + 0.391*\"problem\" + 0.391*\"solving\" + 0.391*\"creative\" + -0.313*\"consistent\" + -0.313*\"excellent\" + 0.217*\"strong\" + -0.174*\"independently\" + -0.174*\"communicator\" + -0.000*\"good\"')]"
      ]
     },
     "execution_count": 51,
     "metadata": {},
     "output_type": "execute_result"
    }
   ],
   "source": [
    "lsi_model = LsiModel(corpus=corpus, num_topics=10, id2word=dictionary)\n",
    "lsi_model.show_topics(num_topics=5)"
   ]
  },
  {
   "cell_type": "markdown",
   "id": "b0e0817c-3268-46c4-9285-945f7d537bf7",
   "metadata": {
    "tags": []
   },
   "source": [
    "### V. HDP \n",
    "HDP - Hierarchical Dirichlet Process"
   ]
  },
  {
   "cell_type": "code",
   "execution_count": 52,
   "id": "e209d0b5-98d7-4bd8-9103-10dd8f2c1338",
   "metadata": {
    "execution": {
     "iopub.execute_input": "2025-06-20T01:06:44.281864Z",
     "iopub.status.busy": "2025-06-20T01:06:44.281324Z",
     "iopub.status.idle": "2025-06-20T01:06:44.302165Z",
     "shell.execute_reply": "2025-06-20T01:06:44.301466Z",
     "shell.execute_reply.started": "2025-06-20T01:06:44.281833Z"
    },
    "tags": []
   },
   "outputs": [
    {
     "data": {
      "text/plain": [
       "[(0,\n",
       "  '0.093*reliable + 0.071*problem + 0.066*input + 0.062*job + 0.061*creative + 0.052*take + 0.049*consistent + 0.047*positive + 0.045*independently + 0.041*meet + 0.041*strong + 0.037*show + 0.036*support + 0.029*skilled + 0.027*excellent + 0.026*player + 0.023*proactive + 0.021*great + 0.020*deliver + 0.019*helpful'),\n",
       " (1,\n",
       "  '0.146*solving + 0.111*deliver + 0.087*strong + 0.060*input + 0.060*great + 0.059*initiative + 0.054*skilled + 0.052*team + 0.049*time + 0.041*communicator + 0.035*consistent + 0.030*good + 0.028*creative + 0.028*meet + 0.021*helpful + 0.020*result + 0.019*independently + 0.016*attitude + 0.012*support + 0.010*show'),\n",
       " (2,\n",
       "  '0.150*skilled + 0.134*creative + 0.086*positive + 0.072*show + 0.057*team + 0.046*strong + 0.036*problem + 0.035*attitude + 0.034*deliver + 0.033*consistent + 0.029*initiative + 0.029*excellent + 0.028*great + 0.028*input + 0.026*take + 0.026*helpful + 0.025*player + 0.020*good + 0.019*reliable + 0.016*solving'),\n",
       " (3,\n",
       "  '0.189*independently + 0.109*creative + 0.087*team + 0.062*good + 0.054*positive + 0.042*initiative + 0.041*helpful + 0.039*input + 0.038*deliver + 0.036*solving + 0.033*proactive + 0.033*skilled + 0.029*communicator + 0.026*deadline + 0.025*consistent + 0.024*attitude + 0.022*result + 0.017*job + 0.013*support + 0.013*reliable'),\n",
       " (4,\n",
       "  '0.113*helpful + 0.089*great + 0.085*job + 0.081*initiative + 0.069*problem + 0.058*leadership + 0.050*attitude + 0.047*strong + 0.039*player + 0.037*independently + 0.035*communicator + 0.030*time + 0.028*deliver + 0.028*proactive + 0.026*meet + 0.025*creative + 0.025*skilled + 0.022*show + 0.018*good + 0.016*reliable')]"
      ]
     },
     "execution_count": 52,
     "metadata": {},
     "output_type": "execute_result"
    }
   ],
   "source": [
    "hdp_model = HdpModel(corpus=corpus, id2word=dictionary)\n",
    "hdp_model.show_topics()[:5]"
   ]
  }
 ],
 "metadata": {
  "kernelspec": {
   "display_name": "saturn (Python 3)",
   "language": "python",
   "name": "python3"
  },
  "language_info": {
   "codemirror_mode": {
    "name": "ipython",
    "version": 3
   },
   "file_extension": ".py",
   "mimetype": "text/x-python",
   "name": "python",
   "nbconvert_exporter": "python",
   "pygments_lexer": "ipython3",
   "version": "3.10.18"
  }
 },
 "nbformat": 4,
 "nbformat_minor": 5
}
